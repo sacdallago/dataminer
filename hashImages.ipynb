{
 "cells": [
  {
   "cell_type": "markdown",
   "metadata": {},
   "source": [
    "# Find duplicates\n",
    "\n",
    "1. Create image hashes\n",
    "2. Map hashes to image names and write to file\n",
    "3. Write CSV with duplicates"
   ]
  },
  {
   "cell_type": "code",
   "execution_count": null,
   "metadata": {
    "collapsed": false
   },
   "outputs": [],
   "source": [
    "# From http://blog.iconfinder.com/detecting-duplicate-images-using-python/\n",
    "\n",
    "def dhash(image, hash_size = 8):\n",
    "    # Grayscale and shrink the image in one step.\n",
    "    image = image.convert('L').resize(\n",
    "        (hash_size + 1, hash_size),\n",
    "        Image.ANTIALIAS,\n",
    "    )\n",
    "\n",
    "    pixels = list(image.getdata())\n",
    "\n",
    "    # Compare adjacent pixels.\n",
    "    difference = []\n",
    "    for row in xrange(hash_size):\n",
    "        for col in xrange(hash_size):\n",
    "            pixel_left = image.getpixel((col, row))\n",
    "            pixel_right = image.getpixel((col + 1, row))\n",
    "            difference.append(pixel_left > pixel_right)\n",
    "\n",
    "    # Convert the binary array to a hexadecimal string.\n",
    "    decimal_value = 0\n",
    "    hex_string = []\n",
    "    for index, value in enumerate(difference):\n",
    "        if value:\n",
    "            decimal_value += 2**(index % 8)\n",
    "        if (index % 8) == 7:\n",
    "            hex_string.append(hex(decimal_value)[2:].rjust(2, '0'))\n",
    "            decimal_value = 0\n",
    "\n",
    "    return ''.join(hex_string)"
   ]
  },
  {
   "cell_type": "code",
   "execution_count": null,
   "metadata": {
    "collapsed": false
   },
   "outputs": [],
   "source": [
    "from PIL import Image\n",
    "from os import listdir\n",
    "from os.path import isfile, join\n",
    "import IPython.display as ip\n",
    "\n",
    "path = './data/train_photos'\n",
    "files = [f for f in listdir(path) if isfile(join(path, f))]\n",
    "automated = True\n",
    "\n",
    "hashes = []\n",
    "uniqueHashes = set()\n",
    "uniqueImages = []\n",
    "duplicates = []\n",
    "\n",
    "for element in files:\n",
    "    image = Image.open(join(path, element))\n",
    "    hashes.append((element, dhash(image), element.replace('.jpg','')))\n",
    "\n",
    "if automated:\n",
    "    for img in hashes:\n",
    "        duplicate = [e for e in uniqueImages if e[1] == img[1]]\n",
    "        if len(duplicate) > 0:\n",
    "            duplicates.append((img[0],img[1],img[2], duplicate[0][0],duplicate[0][1],duplicate[0][2]))\n",
    "        else:\n",
    "            uniqueImages.append(img)\n",
    "else:\n",
    "    for img in hashes:\n",
    "        duplicate = [e for e in uniqueImages if e[1] == img[1]]\n",
    "        if len(duplicate) > 0:\n",
    "            ip.clear_output()\n",
    "            ip.display(ip.Image(join(path, img[0])))\n",
    "            ip.display(ip.Image(join(path, duplicate[0][0])))\n",
    "            output = raw_input('Enter something if is NOT dupliacte: ')\n",
    "            if output:\n",
    "                uniqueImages.append(img)\n",
    "            else:\n",
    "                duplicates.append((img[0],img[1],img[2], duplicate[0][0],duplicate[0][1],duplicate[0][2]))\n",
    "        else:\n",
    "            uniqueImages.append(img)\n",
    "    ip.clear_output()"
   ]
  },
  {
   "cell_type": "code",
   "execution_count": null,
   "metadata": {
    "collapsed": false
   },
   "outputs": [],
   "source": [
    "import csv\n",
    "\n",
    "savePath = '.'\n",
    "\n",
    "with open(join(savePath, 'noDuplicates.csv'), 'wb') as out:\n",
    "    csv_out=csv.writer(out)\n",
    "    csv_out.writerow(['filename','hash','id'])\n",
    "    for row in uniqueImages:\n",
    "        csv_out.writerow(row)\n",
    "        \n",
    "with open(join(savePath, 'duplicates.csv'), 'wb') as dout:\n",
    "    csv_dout=csv.writer(dout)\n",
    "    csv_dout.writerow(['filename1','hash1','id1','filename2','hash2','id2'])\n",
    "    for row in duplicates:\n",
    "        csv_dout.writerow(row)"
   ]
  }
 ],
 "metadata": {
  "kernelspec": {
   "display_name": "Python 2",
   "language": "python",
   "name": "python2"
  },
  "language_info": {
   "codemirror_mode": {
    "name": "ipython",
    "version": 2
   },
   "file_extension": ".py",
   "mimetype": "text/x-python",
   "name": "python",
   "nbconvert_exporter": "python",
   "pygments_lexer": "ipython2",
   "version": "2.7.6"
  }
 },
 "nbformat": 4,
 "nbformat_minor": 0
}

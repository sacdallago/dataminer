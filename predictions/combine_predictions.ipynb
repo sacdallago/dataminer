{
 "cells": [
  {
   "cell_type": "code",
   "execution_count": null,
   "metadata": {
    "collapsed": true
   },
   "outputs": [],
   "source": [
    "import csv\n",
    "import numpy as np\n",
    "import math"
   ]
  },
  {
   "cell_type": "code",
   "execution_count": null,
   "metadata": {
    "collapsed": false
   },
   "outputs": [],
   "source": [
    "with open('./train.csv') as f:\n",
    "    food_to_label = []\n",
    "    for row in csv.DictReader(f, skipinitialspace=True):\n",
    "        element = {}\n",
    "        for k, v in row.items():\n",
    "            if k == \"business_id\":\n",
    "                element['id'] = str(v)\n",
    "            elif k == \"labels\":\n",
    "                labels_raw = np.array(str(v).split(' '))\n",
    "                labels = [0] * 9\n",
    "                labels_int = []\n",
    "                try:\n",
    "                    for lb in labels_raw:\n",
    "                        labels[int(str(lb))] = 1\n",
    "                        labels_int.append(int(lb))\n",
    "                except ValueError:\n",
    "                    print \"Failure with value\", lb, \"labels lenght\", len(labels_raw), \"content:\", v\n",
    "                element['labels'] = labels\n",
    "                element['labels_raw'] = labels_int\n",
    "            else :\n",
    "                print \"No idea what you just passed!\"\n",
    "        \n",
    "        if len(element['labels_raw']) is not 0:\n",
    "            food_to_label.append(element)\n",
    "        else:\n",
    "            print \"Business\", element['id'], \"has no labels and is being ignored!\"\n",
    "\n",
    "if len(set([element['id'] for element in food_to_label])) != len(food_to_label):\n",
    "    print('something\\'s wrong!')"
   ]
  },
  {
   "cell_type": "code",
   "execution_count": null,
   "metadata": {
    "collapsed": false
   },
   "outputs": [],
   "source": [
    "def bestScoring(element, n=3):\n",
    "    if n is 0:\n",
    "        return []\n",
    "    else:\n",
    "        current = max(element)\n",
    "        return [current] + bestScoring([e for e in element if e != current], n-1)\n",
    "    \n",
    "def getIndexes(values, element):\n",
    "    return[element.index(v) for v in values]\n",
    "\n",
    "def getCombinations(array):\n",
    "    if len(array) is 1:\n",
    "        return [array]\n",
    "    else:\n",
    "        result = [[array[0]]]\n",
    "        for e in getCombinations(array[1:]):\n",
    "            result.append(e)\n",
    "            a = []\n",
    "            a.extend(e)\n",
    "            a.append(array[0])\n",
    "            result.append(a)\n",
    "        return result\n",
    "    \n",
    "def combine(n = 8):\n",
    "    if n < 0:\n",
    "        return []\n",
    "    else:\n",
    "        result = [[n]]\n",
    "        for e in combine(n-1):\n",
    "            result.append(e)\n",
    "            a = []\n",
    "            a.extend(e)\n",
    "            a.append(n)\n",
    "            result.append(a)\n",
    "        return result"
   ]
  },
  {
   "cell_type": "code",
   "execution_count": null,
   "metadata": {
    "collapsed": false
   },
   "outputs": [],
   "source": [
    "combinations = [set(e) for e in combine()]"
   ]
  },
  {
   "cell_type": "code",
   "execution_count": null,
   "metadata": {
    "collapsed": false
   },
   "outputs": [],
   "source": [
    "proportions = []\n",
    "for combination in combinations:\n",
    "    l = len([element for element in food_to_label if set(element['labels_raw']) == combination])/float(len(food_to_label))\n",
    "    proportions.append(l)"
   ]
  },
  {
   "cell_type": "code",
   "execution_count": null,
   "metadata": {
    "collapsed": false
   },
   "outputs": [],
   "source": [
    "with open('./all_classes_prediction.csv') as f:\n",
    "    allClasses = [{k:v for k,v in row.items()} for row in csv.DictReader(f, skipinitialspace=True)]"
   ]
  },
  {
   "cell_type": "code",
   "execution_count": null,
   "metadata": {
    "collapsed": false
   },
   "outputs": [],
   "source": [
    "with open('./one_vs_all_class_prediction.csv') as f:\n",
    "    oneVsAll = [{k:v for k,v in row.items()} for row in csv.DictReader(f, skipinitialspace=True)]"
   ]
  },
  {
   "cell_type": "code",
   "execution_count": null,
   "metadata": {
    "collapsed": false
   },
   "outputs": [],
   "source": [
    "i = 100\n",
    "print combinations[i], \"happens with\", proportions[i]*100, \"%\"\n",
    "print \"Most likely happens at\", max(proportions)*100, \"% and is\", combinations[proportions.index(max(proportions))]\n",
    "print \"All proportions should sum up to 1:\", sum(proportions)\n",
    "print \"Lengths of all-vs-all & one-vs-all are same:\", len(oneVsAll) == len(allClasses)\n",
    "print \"Last elements in all-vs-all & one-vs-all are same:\", oneVsAll[len(oneVsAll)-1]['id'] == allClasses[len(allClasses)-1]['id']"
   ]
  },
  {
   "cell_type": "code",
   "execution_count": null,
   "metadata": {
    "collapsed": false
   },
   "outputs": [],
   "source": [
    "total = sum([math.exp(float(oneVsAll[0][str(k)])) for k in range(9)])\n",
    "oneVsAllNorm = []\n",
    "for element in oneVsAll:\n",
    "    temp = element.copy()\n",
    "    for e in range(9):\n",
    "        temp[str(e)] = math.exp(float(temp[str(e)])) / total\n",
    "    oneVsAllNorm.append(temp)"
   ]
  },
  {
   "cell_type": "code",
   "execution_count": null,
   "metadata": {
    "collapsed": false
   },
   "outputs": [],
   "source": [
    "for j in range(4):\n",
    "    print oneVsAll[j]['id'], allClasses[j]['id']\n",
    "    oneVsAllBest = bestScoring([oneVsAllNorm[j][str(v)] for v in range(9)], 2)\n",
    "    oneVsAllBestIndexes = getIndexes(oneVsAllBest, [oneVsAllNorm[j][str(v)] for v in range(9)])\n",
    "    combIndex = combinations.index(set(oneVsAllBestIndexes))\n",
    "    print oneVsAllBestIndexes, \"happens at\", proportions[combIndex]\n",
    "\n",
    "    \n",
    "    allBest = bestScoring([float(allClasses[j][str(v)]) for v in range(9)], 2)\n",
    "    allBestIndexes = getIndexes(allBest, [float(allClasses[j][str(v)]) for v in range(9)])\n",
    "    allIndex = combinations.index(set(allBestIndexes))\n",
    "    print allBestIndexes, \"happens at\", proportions[allIndex]\n",
    "    \n",
    "    for i in range(9):\n",
    "        print \"\\t\", str(i), \"{:.2f}\".format(float(oneVsAll[j][str(i)])), \"{:.2f}\".format(oneVsAllNorm[j][str(i)]), \"{:.2f}\".format(float(allClasses[j][str(i)]))"
   ]
  },
  {
   "cell_type": "code",
   "execution_count": null,
   "metadata": {
    "collapsed": false
   },
   "outputs": [],
   "source": [
    "def getPredictions(unfiltered, normalized, support, lowerThreshold=.25, upperThreshold=.7):\n",
    "    if(unfiltered['id'] == normalized['id'] and unfiltered['id'] == support['id']):\n",
    "        likely = []\n",
    "        \n",
    "        # Labels I can use\n",
    "        yes = []\n",
    "        no = []\n",
    "        left = []\n",
    "        \n",
    "        u = []\n",
    "        n = []\n",
    "        s = []\n",
    "        \n",
    "        for i in range(9):\n",
    "            u.append(float(unfiltered[str(i)]))\n",
    "            \n",
    "            n.append(float(normalized[str(i)]))\n",
    "            s.append(float(support[str(i)]))\n",
    "            \n",
    "            if u[i] >= upperThreshold:\n",
    "                yes.append(i)\n",
    "            elif u[i] <= lowerThreshold:\n",
    "                no.append(i)\n",
    "            else:\n",
    "                left.append(i)\n",
    "        \n",
    "        if len(yes) > 0:\n",
    "            strength = sum([n[i] for i in yes]) + proportions[combinations.index(set(yes))]\n",
    "        elif len(no) > 5:\n",
    "            return left\n",
    "        elif len(left) > 5:            \n",
    "            yes = getIndexes(bestScoring(s,3),s)\n",
    "            if 0 in left and 0 not in yes and u[0]>.27:\n",
    "                yes.append(0)\n",
    "            left = [i for i in left if i not in yes]\n",
    "            strength = sum([n[i] for i in yes]) + proportions[combinations.index(set(yes))]\n",
    "            \n",
    "        else:\n",
    "            yes = left\n",
    "            left = no\n",
    "            no = []\n",
    "            strength = 0\n",
    "\n",
    "        while True and len(left) is not 0:\n",
    "            \n",
    "            # How many should I still pick?\n",
    "            # print \"Strength\", strength\n",
    "            if strength > .4:\n",
    "                break\n",
    "            \n",
    "            maxNormalized = left[0]\n",
    "            maxSuppport = left[0]\n",
    "            \n",
    "            for i in left:\n",
    "                if n[i] > n[maxNormalized]:\n",
    "                    maxNormalized = i\n",
    "                if s[i] > s[maxSuppport]:\n",
    "                    maxSuppport = i\n",
    "                    \n",
    "            candidates = list(yes)\n",
    "                    \n",
    "            if maxNormalized is maxSuppport:\n",
    "                candidates.append(maxNormalized)\n",
    "                left.remove(maxNormalized)\n",
    "            else:\n",
    "                candidates.append(maxNormalized)\n",
    "                candidates.append(maxSuppport)\n",
    "                left.remove(maxNormalized)\n",
    "                left.remove(maxSuppport)\n",
    "                \n",
    "            candidates = getCombinations(candidates)\n",
    "            candidate = False\n",
    "            \n",
    "            for comb in candidates:\n",
    "                if len(yes) > 0 and proportions[combinations.index(set(comb))] > proportions[combinations.index(set(yes))]:\n",
    "                    candidate = comb\n",
    "            \n",
    "            improvedItems = candidate\n",
    "            \n",
    "            if candidate is not False:\n",
    "                improvedItems = [i for i in candidate if i not in yes]\n",
    "                \n",
    "            if len(yes) > 0 and improvedItems is not False:\n",
    "                yes.extend(improvedItems)\n",
    "            \n",
    "            if len(yes):\n",
    "                strength = sum([n[i] for i in yes]) + proportions[combinations.index(set(yes))]\n",
    "        else:\n",
    "            strength = 0\n",
    "            \n",
    "        return yes\n",
    "    else:\n",
    "        print \"error\"\n",
    "        return"
   ]
  },
  {
   "cell_type": "code",
   "execution_count": null,
   "metadata": {
    "collapsed": false
   },
   "outputs": [],
   "source": [
    "predictions = []\n",
    "for i in range(len(oneVsAll)):\n",
    "    prediction = getPredictions(oneVsAll[i], allClasses[i], oneVsAllNorm[i])\n",
    "    predictions.append((oneVsAll[i]['id'], prediction))"
   ]
  },
  {
   "cell_type": "code",
   "execution_count": 180,
   "metadata": {
    "collapsed": false
   },
   "outputs": [],
   "source": [
    "with open('./test_photo_to_biz.csv') as f:\n",
    "    businesses = [{k: str(v) for k, v in row.items()} for row in csv.DictReader(f, skipinitialspace=True)]"
   ]
  },
  {
   "cell_type": "code",
   "execution_count": 183,
   "metadata": {
    "collapsed": false
   },
   "outputs": [],
   "source": [
    "unique = set([element['business_id'] for element in businesses])"
   ]
  },
  {
   "cell_type": "code",
   "execution_count": 233,
   "metadata": {
    "collapsed": false
   },
   "outputs": [],
   "source": [
    "final = []\n",
    "for business in unique:\n",
    "    pictures = [element['photo_id']+'.jpg' for element in businesses if element['business_id'] == business]\n",
    "    labels = [element[1] for element in predictions if element[0] in pictures]\n",
    "    assign = [0]*9\n",
    "    result = []\n",
    "    support = .6\n",
    "    labs = ''\n",
    "    \n",
    "    for array in labels:\n",
    "        for label in array:\n",
    "            assign[label] += 1\n",
    "    \n",
    "    while len(result) < 1 and support > 0:\n",
    "        for i in range(9):\n",
    "            if assign[i]/9.0 > support:\n",
    "                result.append(i)\n",
    "        support = support - .05\n",
    "    \n",
    "    for e in result:\n",
    "        labs += str(e) + \" \"\n",
    "    \n",
    "    final.append({\n",
    "            'business_id': business,\n",
    "            'labels': labs\n",
    "        })"
   ]
  },
  {
   "cell_type": "code",
   "execution_count": 234,
   "metadata": {
    "collapsed": true
   },
   "outputs": [],
   "source": [
    "keys = final[0].keys()\n",
    "with open('final_biz_pred.csv', 'wb') as output_file:\n",
    "    dict_writer = csv.DictWriter(output_file, keys)\n",
    "    dict_writer.writeheader()\n",
    "    dict_writer.writerows(final)"
   ]
  },
  {
   "cell_type": "code",
   "execution_count": null,
   "metadata": {
    "collapsed": true
   },
   "outputs": [],
   "source": []
  }
 ],
 "metadata": {
  "kernelspec": {
   "display_name": "Python 2",
   "language": "python",
   "name": "python2"
  },
  "language_info": {
   "codemirror_mode": {
    "name": "ipython",
    "version": 2
   },
   "file_extension": ".py",
   "mimetype": "text/x-python",
   "name": "python",
   "nbconvert_exporter": "python",
   "pygments_lexer": "ipython2",
   "version": "2.7.6"
  }
 },
 "nbformat": 4,
 "nbformat_minor": 1
}

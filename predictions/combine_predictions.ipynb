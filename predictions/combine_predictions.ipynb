{
 "cells": [
  {
   "cell_type": "code",
   "execution_count": null,
   "metadata": {
    "collapsed": true
   },
   "outputs": [],
   "source": [
    "import csv\n",
    "import numpy as np\n",
    "import math"
   ]
  },
  {
   "cell_type": "code",
   "execution_count": null,
   "metadata": {
    "collapsed": true
   },
   "outputs": [],
   "source": [
    "predictions = []"
   ]
  },
  {
   "cell_type": "code",
   "execution_count": null,
   "metadata": {
    "collapsed": false
   },
   "outputs": [],
   "source": [
    "with open('./all_classes_prediction.csv') as f:\n",
    "    allClasses = [{k:v for k,v in row.items()} for row in csv.DictReader(f, skipinitialspace=True)]"
   ]
  },
  {
   "cell_type": "code",
   "execution_count": null,
   "metadata": {
    "collapsed": false
   },
   "outputs": [],
   "source": [
    "with open('./one_vs_all_class_prediction.csv') as f:\n",
    "    oneVsAll = [{k:v for k,v in row.items()} for row in csv.DictReader(f, skipinitialspace=True)]"
   ]
  },
  {
   "cell_type": "code",
   "execution_count": null,
   "metadata": {
    "collapsed": false
   },
   "outputs": [],
   "source": [
    "total = sum([math.exp(float(oneVsAll[0][str(k)])) for k in range(9)])\n",
    "oneVsAllNorm = []\n",
    "for element in oneVsAll:\n",
    "    temp = element.copy()\n",
    "    for e in range(9):\n",
    "        temp[str(e)] = math.exp(float(temp[str(e)])) / total\n",
    "    oneVsAllNorm.append(temp)"
   ]
  },
  {
   "cell_type": "code",
   "execution_count": null,
   "metadata": {
    "collapsed": true
   },
   "outputs": [],
   "source": [
    "def bestScoring(element, n=3):\n",
    "    if n is 0:\n",
    "        return []\n",
    "    else:\n",
    "        current = max(element)\n",
    "        return [current] + bestScoring([e for e in element if e != current], n-1)\n",
    "    \n",
    "def getIndexes(values, element):\n",
    "    return[element.index(v) for v in values]"
   ]
  },
  {
   "cell_type": "code",
   "execution_count": null,
   "metadata": {
    "collapsed": false
   },
   "outputs": [],
   "source": [
    "for j in range(4):\n",
    "    print oneVsAll[j]['id']\n",
    "    oneVsAllBest = bestScoring([oneVsAllNorm[j][str(v)] for v in range(9)], 9)\n",
    "    allBest = bestScoring([float(allClasses[j][str(v)]) for v in range(9)], 9)\n",
    "    print getIndexes(oneVsAllBest, [oneVsAllNorm[j][str(v)] for v in range(9)]), getIndexes(allBest, [float(allClasses[j][str(v)]) for v in range(9)])\n",
    "    \n",
    "    for i in range(9):\n",
    "        print \"\\t\", str(i), \"{:.2f}\".format(float(oneVsAll[j][str(i)])), \"{:.2f}\".format(oneVsAllNorm[j][str(i)]), \"{:.2f}\".format(float(allClasses[j][str(i)]))"
   ]
  },
  {
   "cell_type": "code",
   "execution_count": null,
   "metadata": {
    "collapsed": true
   },
   "outputs": [],
   "source": []
  }
 ],
 "metadata": {
  "kernelspec": {
   "display_name": "Python 2",
   "language": "python",
   "name": "python2"
  },
  "language_info": {
   "codemirror_mode": {
    "name": "ipython",
    "version": 2
   },
   "file_extension": ".py",
   "mimetype": "text/x-python",
   "name": "python",
   "nbconvert_exporter": "python",
   "pygments_lexer": "ipython2",
   "version": "2.7.6"
  }
 },
 "nbformat": 4,
 "nbformat_minor": 1
}

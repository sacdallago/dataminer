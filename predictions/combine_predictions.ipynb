{
 "cells": [
  {
   "cell_type": "code",
   "execution_count": null,
   "metadata": {
    "collapsed": true
   },
   "outputs": [],
   "source": [
    "import csv\n",
    "import numpy as np\n",
    "import math"
   ]
  },
  {
   "cell_type": "code",
   "execution_count": null,
   "metadata": {
    "collapsed": false
   },
   "outputs": [],
   "source": [
    "with open('../photo_to_levels.csv') as f:\n",
    "    food_to_label = []\n",
    "    for row in csv.DictReader(f, skipinitialspace=True):\n",
    "        element = {}\n",
    "        for k, v in row.items():\n",
    "            if k == \"id\":\n",
    "                element['id'] = str(v) + \".jpg\"\n",
    "            elif k == \"labels\":\n",
    "                labels_raw = np.array(str(v).split(' '))\n",
    "                labels = [0] * 9\n",
    "                labels_int = []\n",
    "                try:\n",
    "                    for lb in labels_raw:\n",
    "                        labels[int(str(lb))] = 1\n",
    "                        labels_int.append(int(lb))\n",
    "                except ValueError:\n",
    "                    print \"Failure with value\", lb, \"labels lenght\", len(labels_raw), \"content:\", v\n",
    "                element['labels'] = labels\n",
    "                element['labels_raw'] = labels_int\n",
    "            else :\n",
    "                print \"No idea what you just passed!\"\n",
    "        \n",
    "        if len(element['labels_raw']) is not 0:\n",
    "            food_to_label.append(element)\n",
    "        else:\n",
    "            print \"Picture\", element['id'], \"has no labels and is being ignored!\"\n",
    "\n",
    "if len(set([element['id'] for element in food_to_label])) != len(food_to_label):\n",
    "    print('something\\'s wrong!')"
   ]
  },
  {
   "cell_type": "code",
   "execution_count": null,
   "metadata": {
    "collapsed": true
   },
   "outputs": [],
   "source": [
    "predictions = []"
   ]
  },
  {
   "cell_type": "code",
   "execution_count": null,
   "metadata": {
    "collapsed": false
   },
   "outputs": [],
   "source": [
    "def combine(n = 8):\n",
    "    if n < 0:\n",
    "        return []\n",
    "    else:\n",
    "        result = [[n]]\n",
    "        for e in combine(n-1):\n",
    "            result.append(e)\n",
    "            a = []\n",
    "            a.extend(e)\n",
    "            a.append(n)\n",
    "            result.append(a)\n",
    "        return result"
   ]
  },
  {
   "cell_type": "code",
   "execution_count": null,
   "metadata": {
    "collapsed": false
   },
   "outputs": [],
   "source": [
    "combinations = [set(e) for e in combine()]"
   ]
  },
  {
   "cell_type": "code",
   "execution_count": null,
   "metadata": {
    "collapsed": false
   },
   "outputs": [],
   "source": [
    "proportions = []\n",
    "for combination in combinations:\n",
    "    l = len([element for element in food_to_label if set(element['labels_raw']) == combination])/float(len(food_to_label))\n",
    "    proportions.append(l)"
   ]
  },
  {
   "cell_type": "code",
   "execution_count": null,
   "metadata": {
    "collapsed": false
   },
   "outputs": [],
   "source": [
    "i = 300\n",
    "print combinations[i], proportions[i]"
   ]
  },
  {
   "cell_type": "code",
   "execution_count": null,
   "metadata": {
    "collapsed": false
   },
   "outputs": [],
   "source": [
    "with open('./all_classes_prediction.csv') as f:\n",
    "    allClasses = [{k:v for k,v in row.items()} for row in csv.DictReader(f, skipinitialspace=True)]"
   ]
  },
  {
   "cell_type": "code",
   "execution_count": null,
   "metadata": {
    "collapsed": false
   },
   "outputs": [],
   "source": [
    "with open('./one_vs_all_class_prediction.csv') as f:\n",
    "    oneVsAll = [{k:v for k,v in row.items()} for row in csv.DictReader(f, skipinitialspace=True)]"
   ]
  },
  {
   "cell_type": "code",
   "execution_count": null,
   "metadata": {
    "collapsed": false
   },
   "outputs": [],
   "source": [
    "total = sum([math.exp(float(oneVsAll[0][str(k)])) for k in range(9)])\n",
    "oneVsAllNorm = []\n",
    "for element in oneVsAll:\n",
    "    temp = element.copy()\n",
    "    for e in range(9):\n",
    "        temp[str(e)] = math.exp(float(temp[str(e)])) / total\n",
    "    oneVsAllNorm.append(temp)"
   ]
  },
  {
   "cell_type": "code",
   "execution_count": null,
   "metadata": {
    "collapsed": false
   },
   "outputs": [],
   "source": [
    "def bestScoring(element, n=3):\n",
    "    if n is 0:\n",
    "        return []\n",
    "    else:\n",
    "        current = max(element)\n",
    "        return [current] + bestScoring([e for e in element if e != current], n-1)\n",
    "    \n",
    "def getIndexes(values, element):\n",
    "    return[element.index(v) for v in values]\n",
    "\n",
    "def getCombinations(array):\n",
    "    if len(array) is 1:\n",
    "        return [array]\n",
    "    else:\n",
    "        result = [[array[0]]]\n",
    "        for e in getCombinations(array[1:]):\n",
    "            result.append(e)\n",
    "            a = []\n",
    "            a.extend(e)\n",
    "            a.append(array[0])\n",
    "            result.append(a)\n",
    "        return result"
   ]
  },
  {
   "cell_type": "code",
   "execution_count": null,
   "metadata": {
    "collapsed": false
   },
   "outputs": [],
   "source": [
    "getCombinations([1,2,3])"
   ]
  },
  {
   "cell_type": "code",
   "execution_count": null,
   "metadata": {
    "collapsed": false
   },
   "outputs": [],
   "source": [
    "for j in range(4):\n",
    "    print oneVsAll[j]['id']\n",
    "    oneVsAllBest = bestScoring([oneVsAllNorm[j][str(v)] for v in range(9)], 2)\n",
    "    oneVsAllBestIndexes = getIndexes(oneVsAllBest, [oneVsAllNorm[j][str(v)] for v in range(9)])\n",
    "    combIndex = combinations.index(set(oneVsAllBestIndexes))\n",
    "    print oneVsAllBestIndexes, \"happens at\", proportions[combIndex]\n",
    "\n",
    "    \n",
    "    allBest = bestScoring([float(allClasses[j][str(v)]) for v in range(9)], 2)\n",
    "    allBestIndexes = getIndexes(allBest, [float(allClasses[j][str(v)]) for v in range(9)])\n",
    "    allIndex = combinations.index(set(allBestIndexes))\n",
    "    print allBestIndexes, \"happens at\", proportions[allIndex]\n",
    "    \n",
    "    for i in range(9):\n",
    "        print \"\\t\", str(i), \"{:.2f}\".format(float(oneVsAll[j][str(i)])), \"{:.2f}\".format(oneVsAllNorm[j][str(i)]), \"{:.2f}\".format(float(allClasses[j][str(i)]))"
   ]
  }
 ],
 "metadata": {
  "kernelspec": {
   "display_name": "Python 2",
   "language": "python",
   "name": "python2"
  },
  "language_info": {
   "codemirror_mode": {
    "name": "ipython",
    "version": 2
   },
   "file_extension": ".py",
   "mimetype": "text/x-python",
   "name": "python",
   "nbconvert_exporter": "python",
   "pygments_lexer": "ipython2",
   "version": "2.7.6"
  }
 },
 "nbformat": 4,
 "nbformat_minor": 1
}

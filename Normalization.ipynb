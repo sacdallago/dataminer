{
 "cells": [
  {
   "cell_type": "markdown",
   "metadata": {},
   "source": [
    "# Normalization with Resizing "
   ]
  },
  {
   "cell_type": "code",
   "execution_count": 51,
   "metadata": {
    "collapsed": false
   },
   "outputs": [],
   "source": [
    "import PIL\n",
    "import os #for the loop\n",
    "from PIL import Image\n",
    "\n",
    "basewidth = 300\n",
    "folder = 'Normalization_Try/'\n",
    "for fn in os.listdir(folder):\n",
    "    if os.path.isfile(folder + fn) and '.jpg' in fn:\n",
    "        img = Image.open((folder + fn))\n",
    "        wpercent = (basewidth/float(img.size[0]))\n",
    "        img = img.resize((basewidth,basewidth), PIL.Image.ANTIALIAS)\n",
    "        img.save('Normalization_Try_Resized/' + 'r_' + fn)"
   ]
  },
  {
   "cell_type": "markdown",
   "metadata": {},
   "source": [
    "# Normalization with Cropping"
   ]
  },
  {
   "cell_type": "code",
   "execution_count": 11,
   "metadata": {
    "collapsed": false
   },
   "outputs": [
    {
     "name": "stdout",
     "output_type": "stream",
     "text": [
      "done\n"
     ]
    }
   ],
   "source": [
    "import PIL\n",
    "import os #for the loop\n",
    "from PIL import Image\n",
    "\n",
    "basewidth = 300\n",
    "folder = 'SampleFoodClassifier/'\n",
    "for fn in os.listdir(folder):\n",
    "    if os.path.isfile(folder + fn) and '.jpg' in fn:\n",
    "        img = Image.open((folder + fn))\n",
    "        cutw = int(round((img.size[0]-img.size[1])/2))\n",
    "        cuth = int(round((img.size[1]-img.size[0])/2))\n",
    "        if img.size[0] > img.size[1]: #if width is larger than height \n",
    "            img = img.crop((cutw,0,cutw+img.size[1],img.size[1]))\n",
    "        else: \n",
    "            img = img.crop((0,cuth,img.size[0],cuth+img.size[0]))\n",
    "        \n",
    "        img.save('Normalization_Cropped/' + fn)\n",
    "        \n",
    "print('done')"
   ]
  },
  {
   "cell_type": "markdown",
   "metadata": {},
   "source": [
    "# Resize after Crop"
   ]
  },
  {
   "cell_type": "code",
   "execution_count": 13,
   "metadata": {
    "collapsed": false
   },
   "outputs": [
    {
     "name": "stdout",
     "output_type": "stream",
     "text": [
      "done\n"
     ]
    }
   ],
   "source": [
    "import PIL\n",
    "import os #for the loop\n",
    "from PIL import Image\n",
    "\n",
    "basewidth = 300\n",
    "hsize= basewidth #squaring\n",
    "input_folder = 'Normalization_Cropped/'\n",
    "output_folder = 'SampleFoodClassifier_Norm/'\n",
    "\n",
    "for fn in os.listdir(input_folder):\n",
    "    if os.path.isfile(input_folder + fn) and '.jpg' in fn:\n",
    "        img = Image.open((input_folder + fn))\n",
    "        #wpercent = (basewidth/float(img.size[0])) just if we don't square\n",
    "        #hsize = int((float(img.size[1])*float(wpercent)))\n",
    "        img = img.resize((basewidth,hsize), PIL.Image.ANTIALIAS)\n",
    "        img.save(output_folder + fn)\n",
    "        \n",
    "print('done')"
   ]
  },
  {
   "cell_type": "code",
   "execution_count": null,
   "metadata": {
    "collapsed": true
   },
   "outputs": [],
   "source": []
  }
 ],
 "metadata": {
  "kernelspec": {
   "display_name": "Python 2",
   "language": "python",
   "name": "python2"
  },
  "language_info": {
   "codemirror_mode": {
    "name": "ipython",
    "version": 2
   },
   "file_extension": ".py",
   "mimetype": "text/x-python",
   "name": "python",
   "nbconvert_exporter": "python",
   "pygments_lexer": "ipython2",
   "version": "2.7.6"
  }
 },
 "nbformat": 4,
 "nbformat_minor": 0
}

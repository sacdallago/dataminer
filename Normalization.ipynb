{
 "cells": [
  {
   "cell_type": "markdown",
   "metadata": {},
   "source": [
    "# Normalization with Resizing "
   ]
  },
  {
   "cell_type": "code",
   "execution_count": 51,
   "metadata": {
    "collapsed": false
   },
   "outputs": [],
   "source": [
    "import PIL\n",
    "import os #for the loop\n",
    "from PIL import Image\n",
    "\n",
    "basewidth = 300\n",
    "folder = 'Normalization_Try/'\n",
    "for fn in os.listdir(folder):\n",
    "    if os.path.isfile(folder + fn) and '.jpg' in fn:\n",
    "        img = Image.open((folder + fn))\n",
    "        wpercent = (basewidth/float(img.size[0]))\n",
    "        img = img.resize((basewidth,basewidth), PIL.Image.ANTIALIAS)\n",
    "        img.save('Normalization_Try_Resized/' + 'r_' + fn)"
   ]
  },
  {
   "cell_type": "markdown",
   "metadata": {},
   "source": [
    "# Normalization with Cropping"
   ]
  },
  {
   "cell_type": "code",
   "execution_count": 100,
   "metadata": {
    "collapsed": false
   },
   "outputs": [],
   "source": [
    "import PIL\n",
    "import os #for the loop\n",
    "from PIL import Image\n",
    "\n",
    "basewidth = 300\n",
    "folder = 'Normalization_Try/'\n",
    "for fn in os.listdir(folder):\n",
    "    if os.path.isfile(folder + fn) and '.jpg' in fn:\n",
    "        img = Image.open((folder + fn))\n",
    "        wpercent = (basewidth/float(img.size[0]))\n",
    "        hsize = int((float(img.size[1])*float(wpercent)))\n",
    "        cutw = int(round((img.size[0]-img.size[1])/2))\n",
    "        cuth = int(round((img.size[1]-img.size[0])/2))\n",
    "        if img.size[0] > img.size[1]: #if width is larger than height \n",
    "            img = img.crop((cutw,0,cutw+img.size[1],img.size[1]))\n",
    "        else: \n",
    "            img = img.crop((0,cuth,img.size[0],cuth+img.size[0]))\n",
    "        \n",
    "        img.save('Normalization_Try_Cropped/' + 'c_' + fn)"
   ]
  },
  {
   "cell_type": "markdown",
   "metadata": {},
   "source": [
    "# Resize after Crop"
   ]
  },
  {
   "cell_type": "code",
   "execution_count": 104,
   "metadata": {
    "collapsed": false
   },
   "outputs": [],
   "source": [
    "import PIL\n",
    "import os #for the loop\n",
    "from PIL import Image\n",
    "\n",
    "basewidth = 300\n",
    "folder = 'Normalization_Try_Cropped/'\n",
    "for fn in os.listdir(folder):\n",
    "    if os.path.isfile(folder + fn) and '.jpg' in fn:\n",
    "        img = Image.open((folder + fn))\n",
    "        wpercent = (basewidth/float(img.size[0])) #does not really matter to what dimension is scaling now, since is a square\n",
    "        hsize = int((float(img.size[1])*float(wpercent)))\n",
    "        img = img.resize((basewidth,hsize), PIL.Image.ANTIALIAS)\n",
    "        img.save('Normalization_Try_Cropped_Resized/' + 'r_' + fn)"
   ]
  }
 ],
 "metadata": {
  "kernelspec": {
   "display_name": "Python 2",
   "language": "python",
   "name": "python2"
  },
  "language_info": {
   "codemirror_mode": {
    "name": "ipython",
    "version": 2
   },
   "file_extension": ".py",
   "mimetype": "text/x-python",
   "name": "python",
   "nbconvert_exporter": "python",
   "pygments_lexer": "ipython2",
   "version": "2.7.6"
  }
 },
 "nbformat": 4,
 "nbformat_minor": 0
}

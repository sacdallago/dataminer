{
 "cells": [
  {
   "cell_type": "code",
   "execution_count": 1,
   "metadata": {
    "collapsed": true
   },
   "outputs": [],
   "source": [
    "import numpy as np\n",
    "\n",
    "# Import datasets, classifiers and performance metrics\n",
    "from sklearn import svm\n",
    "\n",
    "# Import save and load classifiers utils\n",
    "from sklearn.externals import joblib\n",
    "\n",
    "# Import data elaboration utils\n",
    "import os\n",
    "import csv"
   ]
  },
  {
   "cell_type": "code",
   "execution_count": 2,
   "metadata": {
    "collapsed": true
   },
   "outputs": [],
   "source": [
    "# Load classifier\n",
    "\n",
    "classifier = joblib.load('./foodClassifier/foodClassifier.pkl') "
   ]
  },
  {
   "cell_type": "code",
   "execution_count": 3,
   "metadata": {
    "collapsed": true
   },
   "outputs": [],
   "source": [
    "# Predict classes for all images in the data folder\n",
    "\n",
    "feauterizedPicturesFolder = './data/featurePictures'\n",
    "\n",
    "files = [f for f in os.listdir(feauterizedPicturesFolder) if os.path.isfile(os.path.join(feauterizedPicturesFolder, f))]\n",
    "predictables = np.array([np.load(os.path.join(feauterizedPicturesFolder, pic)) for pic in files])\n",
    "predicted = [prediction[0] for prediction in [classifier.predict(p.reshape(1,-1)) for p in predictables]]\n",
    "classification = zip(files, predicted)"
   ]
  },
  {
   "cell_type": "code",
   "execution_count": 4,
   "metadata": {
    "collapsed": true
   },
   "outputs": [],
   "source": [
    "# Store classification\n",
    "\n",
    "savePath = './'\n",
    "\n",
    "with open(os.path.join(savePath, 'classifiedFood.csv'), 'wb') as out:\n",
    "    csv_out=csv.writer(out)\n",
    "    csv_out.writerow(['filename','food'])\n",
    "    for row in classification:\n",
    "        csv_out.writerow(row)"
   ]
  },
  {
   "cell_type": "code",
   "execution_count": null,
   "metadata": {
    "collapsed": true
   },
   "outputs": [],
   "source": []
  }
 ],
 "metadata": {
  "kernelspec": {
   "display_name": "Python 2",
   "language": "python",
   "name": "python2"
  },
  "language_info": {
   "codemirror_mode": {
    "name": "ipython",
    "version": 2
   },
   "file_extension": ".py",
   "mimetype": "text/x-python",
   "name": "python",
   "nbconvert_exporter": "python",
   "pygments_lexer": "ipython2",
   "version": "2.7.6"
  }
 },
 "nbformat": 4,
 "nbformat_minor": 1
}

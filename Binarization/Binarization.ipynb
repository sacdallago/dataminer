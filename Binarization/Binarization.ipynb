{
 "cells": [
  {
   "cell_type": "code",
   "execution_count": 1,
   "metadata": {
    "collapsed": false
   },
   "outputs": [
    {
     "name": "stderr",
     "output_type": "stream",
     "text": [
      "/usr/local/lib/python2.7/dist-packages/matplotlib/font_manager.py:273: UserWarning: Matplotlib is building the font cache using fc-list. This may take a moment.\n",
      "  warnings.warn('Matplotlib is building the font cache using fc-list. This may take a moment.')\n"
     ]
    }
   ],
   "source": [
    "import numpy as np\n",
    "import matplotlib.pyplot as plt\n",
    "from scipy import ndimage as ndi\n",
    "\n",
    "import os\n",
    "from PIL import Image\n",
    "import PIL.ImageOps    \n",
    "\n",
    "from skimage.morphology import watershed\n",
    "from skimage.feature import peak_local_max\n",
    "from skimage.filters import threshold_otsu\n",
    "from skimage.morphology import binary_closing\n",
    "from skimage.color import rgb2gray"
   ]
  },
  {
   "cell_type": "code",
   "execution_count": 2,
   "metadata": {
    "collapsed": false
   },
   "outputs": [
    {
     "name": "stdout",
     "output_type": "stream",
     "text": [
      "done\n"
     ]
    }
   ],
   "source": [
    "arraydirectory= '../FeatureSampleFoodClassification/binarization_array/'\n",
    "photodirectory='../SampleFoodClassifier_Norm/'\n",
    "\n",
    "if not os.path.exists(arraydirectory):\n",
    "    os.makedirs(arraydirectory)\n",
    "    \n",
    "for fn in os.listdir(photodirectory):\n",
    "    if os.path.isfile(photodirectory + fn) and '.jpg' in fn:\n",
    "        \n",
    "        img=np.array(Image.open(photodirectory + fn))\n",
    "        img_g = rgb2gray(img)\n",
    "        thresh = threshold_otsu(img_g)\n",
    "        img_bin = img_g > thresh\n",
    "        img_closed=binary_closing(img_bin)\n",
    "        img_closed_flat=[item for sublist in img_closed for item in sublist]\n",
    "        np.save(arraydirectory + fn,img_closed_flat)\n",
    "        \n",
    "print('done')"
   ]
  },
  {
   "cell_type": "code",
   "execution_count": null,
   "metadata": {
    "collapsed": true
   },
   "outputs": [],
   "source": []
  }
 ],
 "metadata": {
  "kernelspec": {
   "display_name": "Python 2",
   "language": "python",
   "name": "python2"
  },
  "language_info": {
   "codemirror_mode": {
    "name": "ipython",
    "version": 2
   },
   "file_extension": ".py",
   "mimetype": "text/x-python",
   "name": "python",
   "nbconvert_exporter": "python",
   "pygments_lexer": "ipython2",
   "version": "2.7.6"
  }
 },
 "nbformat": 4,
 "nbformat_minor": 1
}

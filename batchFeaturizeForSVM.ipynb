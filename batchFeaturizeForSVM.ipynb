{
 "cells": [
  {
   "cell_type": "code",
   "execution_count": 11,
   "metadata": {
    "collapsed": true
   },
   "outputs": [],
   "source": [
    "import numpy as np\n",
    "\n",
    "# Import datasets, classifiers and performance metrics\n",
    "from sklearn import datasets, svm, metrics, cross_validation, grid_search\n",
    "\n",
    "# Import save and load classifiers utils\n",
    "from sklearn.externals import joblib\n",
    "\n",
    "# Import data elaboration utils\n",
    "from PIL import Image\n",
    "from StringIO import StringIO\n",
    "import urllib2\n",
    "from urlparse import urlparse\n",
    "from __future__ import division\n",
    "import os\n",
    "import csv\n",
    "import re"
   ]
  },
  {
   "cell_type": "code",
   "execution_count": 2,
   "metadata": {
    "collapsed": true
   },
   "outputs": [],
   "source": [
    "# Functions to process RGB images and make them become feature vectors\n",
    "\n",
    "def process_image_file(image_path):\n",
    "    '''Given an image path it returns its feature vector.\n",
    "\n",
    "    Args:\n",
    "      image_path (str): path of the image file to process.\n",
    "\n",
    "    Returns:\n",
    "      list of float: feature vector on success, None otherwise.\n",
    "    '''\n",
    "    image_fp = StringIO(open(image_path, 'rb').read())\n",
    "    try:\n",
    "        image = Image.open(image_fp)\n",
    "        return process_image(image)\n",
    "    except IOError:\n",
    "        return None\n",
    "\n",
    "\n",
    "def process_image(image, blocks=6):\n",
    "    '''Given a PIL Image object it returns its feature vector.\n",
    "\n",
    "    Args:\n",
    "      image (PIL.Image): image to process.\n",
    "      blocks (int, optional): number of block to subdivide the RGB space into.\n",
    "\n",
    "    Returns:\n",
    "      list of float: feature vector if successful. None if the image is not\n",
    "      RGB.\n",
    "    '''\n",
    "    if not image.mode == 'RGB':\n",
    "        return None\n",
    "    feature = [0] * blocks * blocks * blocks\n",
    "    pixel_count = 0\n",
    "    for pixel in image.getdata():\n",
    "        ridx = int(pixel[0]/(256/blocks))\n",
    "        gidx = int(pixel[1]/(256/blocks))\n",
    "        bidx = int(pixel[2]/(256/blocks))\n",
    "        idx = ridx + gidx * blocks + bidx * blocks * blocks\n",
    "        feature[idx] += 1\n",
    "        pixel_count += 1\n",
    "    return [x/pixel_count for x in feature]"
   ]
  },
  {
   "cell_type": "code",
   "execution_count": 21,
   "metadata": {
    "collapsed": false
   },
   "outputs": [],
   "source": [
    "# Predict classes for all images in the data folder\n",
    "\n",
    "picturesFolder = './data/train_photos'\n",
    "desinationFolder = './data/featurePictures'\n",
    "\n",
    "originals = [f for f in os.listdir(picturesFolder) if os.path.isfile(os.path.join(picturesFolder, f))]\n",
    "processed = [f for f in os.listdir(desinationFolder) if os.path.isfile(os.path.join(desinationFolder, f))]\n",
    "\n",
    "def diff(first, second):\n",
    "        second = set(second)\n",
    "        return [item for item in first if item not in second]\n",
    "    \n",
    "processables = [s.replace('.npy', '') for s in diff([i + '.npy' for i in originals], processed)]"
   ]
  },
  {
   "cell_type": "code",
   "execution_count": 22,
   "metadata": {
    "collapsed": true
   },
   "outputs": [],
   "source": [
    "# Load data\n",
    "\n",
    "dataDir = './data'\n",
    "photoDir = './data/train_photos'\n",
    "\n",
    "with open('./sample_food_no_food.csv') as f:\n",
    "    food_no_food = [{k: v for k, v in row.items()}\n",
    "        for row in csv.DictReader(f, skipinitialspace=True)]\n",
    "    \n",
    "\n",
    "train = [element['id'] for element in food_no_food]\n",
    "processables = [s.replace('.npy', '') for s in diff([i + '.npy' for i in train], processed)]"
   ]
  },
  {
   "cell_type": "code",
   "execution_count": 20,
   "metadata": {
    "collapsed": true
   },
   "outputs": [],
   "source": [
    "for pic in processables:\n",
    "    featureArray = np.array(process_image_file(os.path.join(picturesFolder, pic)))\n",
    "    np.save(os.path.join(desinationFolder, pic), featureArray)"
   ]
  },
  {
   "cell_type": "code",
   "execution_count": 23,
   "metadata": {
    "collapsed": false
   },
   "outputs": [
    {
     "name": "stdout",
     "output_type": "stream",
     "text": [
      "0\n"
     ]
    }
   ],
   "source": [
    "print len(processables)"
   ]
  },
  {
   "cell_type": "code",
   "execution_count": null,
   "metadata": {
    "collapsed": true
   },
   "outputs": [],
   "source": []
  }
 ],
 "metadata": {
  "kernelspec": {
   "display_name": "Python 2",
   "language": "python",
   "name": "python2"
  },
  "language_info": {
   "codemirror_mode": {
    "name": "ipython",
    "version": 2
   },
   "file_extension": ".py",
   "mimetype": "text/x-python",
   "name": "python",
   "nbconvert_exporter": "python",
   "pygments_lexer": "ipython2",
   "version": "2.7.6"
  }
 },
 "nbformat": 4,
 "nbformat_minor": 1
}

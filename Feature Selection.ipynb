{
 "cells": [
  {
   "cell_type": "code",
   "execution_count": 108,
   "metadata": {
    "collapsed": false
   },
   "outputs": [],
   "source": [
    "import numpy as np\n",
    "import os\n",
    "import re\n",
    "import csv\n",
    "\n",
    "percentile_var=0.7 #for variance selection\n",
    "percentile_uni=0.8 #for univariate selection\n",
    "\n",
    "feature_folder= './FeatureSampleFoodClassification_100/edge_array_sobel'\n",
    "output_folder_var= feature_folder + '_var' + str(percentile_var) +  '/'\n",
    "output_folder_uni= feature_folder + '_uni' + str(percentile_uni) + '/'\n",
    "output_folder_tree= feature_folder + '_tree/'\n",
    "\n",
    "feature_folder=feature_folder + '/'\n",
    "\n",
    "if not os.path.exists(output_folder_var):\n",
    "    os.makedirs(output_folder_var)\n",
    "    \n",
    "if not os.path.exists(output_folder_uni):\n",
    "    os.makedirs(output_folder_uni)\n",
    "\n",
    "if not os.path.exists(output_folder_tree):\n",
    "    os.makedirs(output_folder_tree)\n",
    "    \n",
    "files = [f for f in os.listdir(feature_folder) if os.path.isfile(os.path.join(feature_folder, f))]\n",
    "features = np.array([np.load(os.path.join(feature_folder, f)) for f in files])\n",
    "simplifiedNames = [re.sub(r'\\.npy*$','',s) for s in files]\n",
    "\n",
    "n=len(simplifiedNames)\n",
    "\n",
    "names_features=sorted(zip(simplifiedNames, features), key= lambda x : x[0])\n",
    "features=[x[1] for x in names_features]\n",
    "\n",
    "# Load training info\n",
    "with open('./sample_food_no_food.csv') as f:\n",
    "    food_no_food = [{k: v for k, v in row.items()}\n",
    "        for row in csv.DictReader(f, skipinitialspace=True)]\n",
    "\n",
    "labels = np.array([x[1] for x in sorted([(k['id'], np.int64(k['is_food'])) for k in food_no_food], key= lambda x : x[0])])"
   ]
  },
  {
   "cell_type": "markdown",
   "metadata": {},
   "source": [
    "Low Variance removal (no effect for WS), just for binary features!"
   ]
  },
  {
   "cell_type": "code",
   "execution_count": 109,
   "metadata": {
    "collapsed": false
   },
   "outputs": [],
   "source": [
    "from sklearn.feature_selection import VarianceThreshold\n",
    "\n",
    "sel = VarianceThreshold(threshold=(percentile_var * (1 - percentile_var)))\n",
    "selection_var=sel.fit_transform(features)\n",
    "\n",
    "for i in range(0,n):\n",
    "    np.save(output_folder_var + simplifiedNames[i],selection_var[i])\n"
   ]
  },
  {
   "cell_type": "markdown",
   "metadata": {},
   "source": [
    "Univariate feature selection "
   ]
  },
  {
   "cell_type": "code",
   "execution_count": 110,
   "metadata": {
    "collapsed": false
   },
   "outputs": [],
   "source": [
    "from sklearn.feature_selection import SelectPercentile\n",
    "from sklearn.feature_selection import chi2\n",
    "\n",
    "selection_uni= SelectPercentile(chi2, percentile_uni*100).fit_transform(features,labels)\n",
    "\n",
    "for i in range(0,n):\n",
    "    np.save(output_folder_uni + simplifiedNames[i],selection_uni[i])\n"
   ]
  },
  {
   "cell_type": "markdown",
   "metadata": {},
   "source": [
    "Tree-based feature selection"
   ]
  },
  {
   "cell_type": "code",
   "execution_count": 111,
   "metadata": {
    "collapsed": false
   },
   "outputs": [],
   "source": [
    "from sklearn.ensemble import ExtraTreesClassifier\n",
    "from sklearn.feature_selection import SelectFromModel\n",
    "\n",
    "clf = ExtraTreesClassifier()\n",
    "clf = clf.fit(features, labels)\n",
    "model = SelectFromModel(clf, prefit=True)\n",
    "selection_tree = model.transform(features)\n",
    "\n",
    "for i in range(0,n):\n",
    "    np.save(output_folder_tree + simplifiedNames[i],selection_tree[i])"
   ]
  },
  {
   "cell_type": "code",
   "execution_count": null,
   "metadata": {
    "collapsed": true
   },
   "outputs": [],
   "source": []
  }
 ],
 "metadata": {
  "kernelspec": {
   "display_name": "Python 2",
   "language": "python",
   "name": "python2"
  },
  "language_info": {
   "codemirror_mode": {
    "name": "ipython",
    "version": 2
   },
   "file_extension": ".py",
   "mimetype": "text/x-python",
   "name": "python",
   "nbconvert_exporter": "python",
   "pygments_lexer": "ipython2",
   "version": "2.7.6"
  }
 },
 "nbformat": 4,
 "nbformat_minor": 1
}

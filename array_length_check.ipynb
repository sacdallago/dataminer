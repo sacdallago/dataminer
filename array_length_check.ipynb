{
 "cells": [
  {
   "cell_type": "code",
   "execution_count": 27,
   "metadata": {
    "collapsed": true
   },
   "outputs": [],
   "source": [
    "import os\n",
    "import numpy as np"
   ]
  },
  {
   "cell_type": "code",
   "execution_count": 29,
   "metadata": {
    "collapsed": false
   },
   "outputs": [
    {
     "name": "stdout",
     "output_type": "stream",
     "text": [
      "353552.jpg.npy\n",
      "239217.jpg.npy\n",
      "33536\n",
      "1\n"
     ]
    }
   ],
   "source": [
    "arraydirectory='./FeatureSampleFoodClassification_300/con_array_0.5/'\n",
    "    \n",
    "max_arr = -1\n",
    "min_arr = 100*100\n",
    "\n",
    "for fn in os.listdir(arraydirectory):\n",
    "    if os.path.isfile(arraydirectory + fn) and '.npy' in fn:\n",
    "        arr=np.array(np.load(os.path.join(arraydirectory, fn)))\n",
    "        max_arr=max(max_arr,len(arr))\n",
    "        min_arr=max(1,min(min_arr,len(arr)))\n",
    "        if len(arr)==0:\n",
    "            print(fn)\n",
    "        \n",
    "print(max_arr)\n",
    "print(min_arr)\n",
    "        "
   ]
  },
  {
   "cell_type": "code",
   "execution_count": null,
   "metadata": {
    "collapsed": true
   },
   "outputs": [],
   "source": []
  }
 ],
 "metadata": {
  "kernelspec": {
   "display_name": "Python 2",
   "language": "python",
   "name": "python2"
  },
  "language_info": {
   "codemirror_mode": {
    "name": "ipython",
    "version": 2
   },
   "file_extension": ".py",
   "mimetype": "text/x-python",
   "name": "python",
   "nbconvert_exporter": "python",
   "pygments_lexer": "ipython2",
   "version": "2.7.6"
  }
 },
 "nbformat": 4,
 "nbformat_minor": 1
}

{
 "cells": [
  {
   "cell_type": "code",
   "execution_count": null,
   "metadata": {
    "collapsed": false
   },
   "outputs": [],
   "source": [
    "'''\n",
    "A Convolutional Network implementation example using TensorFlow library.\n",
    "This example is using the MNIST database of handwritten digits\n",
    "(http://yann.lecun.com/exdb/mnist/)\n",
    "\n",
    "Author: Aymeric Damien\n",
    "Project: https://github.com/aymericdamien/TensorFlow-Examples/\n",
    "'''"
   ]
  },
  {
   "cell_type": "code",
   "execution_count": 1,
   "metadata": {
    "collapsed": false
   },
   "outputs": [],
   "source": [
    "import tensorflow as tf\n",
    "from sklearn import cross_validation\n",
    "from sklearn import metrics as mt\n",
    "from sklearn import utils as ut\n",
    "import csv\n",
    "import numpy as np\n",
    "import os.path as path\n",
    "from PIL import Image\n",
    "from skimage.color import rgb2gray"
   ]
  },
  {
   "cell_type": "code",
   "execution_count": 2,
   "metadata": {
    "collapsed": false
   },
   "outputs": [],
   "source": [
    "# Load data\n",
    "dataDir = './data'\n",
    "featuresDir = './data/SampleFoodClassifier_Norm_300'\n",
    "\n",
    "with open('./sample_food_no_food.csv') as f:\n",
    "    food_no_food = [{k: v for k, v in row.items()}\n",
    "        for row in csv.DictReader(f, skipinitialspace=True)]\n",
    "    \n",
    "\n",
    "data_ids = [element['id'] for element in food_no_food]\n",
    "\n",
    "labels = [int(element['is_food']) for element in food_no_food]\n",
    "data = [rgb2gray(np.array(Image.open(path.join(featuresDir, element)))) for element in data_ids]"
   ]
  },
  {
   "cell_type": "code",
   "execution_count": 3,
   "metadata": {
    "collapsed": false
   },
   "outputs": [],
   "source": [
    "# Split training data in a train set and a test set. The test set will containt 20% of the total\n",
    "x_train, x_test, y_train, y_test = cross_validation.train_test_split(data, labels, test_size=.25, random_state=6)\n",
    "\n",
    "# Parameters\n",
    "learning_rate = 0.001\n",
    "training_size = 10\n",
    "training_iters = 5\n",
    "\n",
    "# Network Parameters\n",
    "n_input = 90000\n",
    "n_classes = len(set(y_train))\n",
    "dropout = 0.75 # Dropout, probability to keep units\n",
    "\n",
    "# print 'Input vector size', n_input, 'train shape', np.array(x_train).shape , 'number of classes', n_classes\n",
    "\n",
    "# tf Graph input\n",
    "x = tf.placeholder(tf.float32, [None, n_input])\n",
    "y = tf.placeholder(tf.float32, [None, n_classes])\n",
    "keep_prob = tf.placeholder(tf.float32) #dropout (keep probability)"
   ]
  },
  {
   "cell_type": "code",
   "execution_count": 4,
   "metadata": {
    "collapsed": true
   },
   "outputs": [],
   "source": [
    "# Create some wrappers for simplicity\n",
    "def conv2d(x, W, b, strides=1):\n",
    "    # Conv2D wrapper, with bias and relu activation\n",
    "    x = tf.nn.conv2d(x, W, strides=[1, strides, strides, 1], padding='SAME')\n",
    "    x = tf.nn.bias_add(x, b)\n",
    "    return tf.nn.relu(x)\n",
    "\n",
    "\n",
    "def maxpool2d(x, k=2):\n",
    "    # MaxPool2D wrapper\n",
    "    return tf.nn.max_pool(x, ksize=[1, k, k, 1], strides=[1, k, k, 1],\n",
    "                          padding='SAME')\n",
    "\n",
    "\n",
    "# Create model\n",
    "def conv_net(x, weights, biases, dropout):\n",
    "    # Reshape input picture\n",
    "    # !!!!!! IMPORTANT RESHAPE !!!!!!!!!!!!!! IMPORTANT RESHAPE !!!!!!!!!!!!!! IMPORTANT RESHAPE !!!!!!!!\n",
    "    x = tf.reshape(x, shape=[-1, 300, 300, 1])\n",
    "\n",
    "    # Convolution Layer\n",
    "    conv1 = conv2d(x, weights['wc1'], biases['bc1'])\n",
    "    # Max Pooling (down-sampling)\n",
    "    conv1 = maxpool2d(conv1, k=2)\n",
    "\n",
    "    # Convolution Layer\n",
    "    conv2 = conv2d(conv1, weights['wc2'], biases['bc2'])\n",
    "    # Max Pooling (down-sampling)\n",
    "    conv2 = maxpool2d(conv2, k=2)\n",
    "    print \"PLEASE MODIFY WD1 TO\", conv2.get_shape().as_list()[1], \"*\",conv2.get_shape().as_list()[2], \"*64\"\n",
    "\n",
    "    # Fully connected layer\n",
    "    # Reshape conv2 output to fit fully connected layer input\n",
    "    fc1 = tf.reshape(conv2, [-1, weights['wd1'].get_shape().as_list()[0]])\n",
    "    fc1 = tf.add(tf.matmul(fc1, weights['wd1']), biases['bd1'])\n",
    "    fc1 = tf.nn.relu(fc1)\n",
    "    # Apply Dropout\n",
    "    fc1 = tf.nn.dropout(fc1, dropout)\n",
    "\n",
    "    # Output, class prediction\n",
    "    out = tf.add(tf.matmul(fc1, weights['out']), biases['out'])\n",
    "    return out"
   ]
  },
  {
   "cell_type": "code",
   "execution_count": 5,
   "metadata": {
    "collapsed": false
   },
   "outputs": [
    {
     "name": "stdout",
     "output_type": "stream",
     "text": [
      "PLEASE MODIFY WD1 TO 75 * 75 *64\n"
     ]
    }
   ],
   "source": [
    "# Store layers weight & bias\n",
    "weights = {\n",
    "    # 5x5 conv, 1 input, 32 outputs\n",
    "    'wc1': tf.Variable(tf.random_normal([5, 5, 1, 32])),\n",
    "    # 5x5 conv, 32 inputs, 64 outputs\n",
    "    'wc2': tf.Variable(tf.random_normal([5, 5, 32, 64])),\n",
    "    # fully connected, 7*7*64 inputs, 1024 outputs\n",
    "    'wd1': tf.Variable(tf.random_normal([75*75*64, 1024])),\n",
    "    # 1024 inputs, 10 outputs (class prediction)\n",
    "    'out': tf.Variable(tf.random_normal([1024, n_classes]))\n",
    "}\n",
    "\n",
    "biases = {\n",
    "    'bc1': tf.Variable(tf.random_normal([32])),\n",
    "    'bc2': tf.Variable(tf.random_normal([64])),\n",
    "    'bd1': tf.Variable(tf.random_normal([1024])),\n",
    "    'out': tf.Variable(tf.random_normal([n_classes]))\n",
    "}\n",
    "\n",
    "# Construct model\n",
    "pred = conv_net(x, weights, biases, keep_prob)\n",
    "\n",
    "# Define loss and optimizer\n",
    "cost = tf.reduce_mean(tf.nn.softmax_cross_entropy_with_logits(pred, y))\n",
    "optimizer = tf.train.AdamOptimizer(learning_rate=learning_rate).minimize(cost)\n",
    "\n",
    "# Evaluate model\n",
    "correct_pred = tf.equal(tf.argmax(pred, 1), tf.argmax(y, 1))\n",
    "accuracy = tf.reduce_mean(tf.cast(correct_pred, tf.float32))\n",
    "y_p = tf.argmax(pred, 1)\n",
    "\n",
    "# Initializing the variables\n",
    "init = tf.initialize_all_variables()"
   ]
  },
  {
   "cell_type": "code",
   "execution_count": 6,
   "metadata": {
    "collapsed": false
   },
   "outputs": [],
   "source": [
    "y_train_temp = []\n",
    "\n",
    "for element in y_train:\n",
    "    temp = [0]*len(set(y_train))\n",
    "    temp[element] = 1\n",
    "    y_train_temp.append(temp)\n",
    "    \n",
    "y_train = np.reshape(y_train_temp,(len(y_train_temp), -1))\n",
    "\n",
    "y_test_temp = []\n",
    "\n",
    "for element in y_test:\n",
    "    temp = [0]*len(set(y_test))\n",
    "    temp[element] = 1\n",
    "    y_test_temp.append(temp)\n",
    "    \n",
    "y_test = np.reshape(y_test_temp,(len(y_test_temp), -1))"
   ]
  },
  {
   "cell_type": "code",
   "execution_count": 7,
   "metadata": {
    "collapsed": true
   },
   "outputs": [],
   "source": [
    "x_train = np.reshape(x_train, (len(x_train), -1))"
   ]
  },
  {
   "cell_type": "code",
   "execution_count": 8,
   "metadata": {
    "collapsed": false
   },
   "outputs": [
    {
     "name": "stdout",
     "output_type": "stream",
     "text": [
      "Iter 0, Minibatch Loss= 44675.250000, Training Accuracy= 0.90000\n",
      "Iter 1, Minibatch Loss= 194287.218750, Training Accuracy= 0.30000\n",
      "Iter 2, Minibatch Loss= 172298.328125, Training Accuracy= 0.90000\n",
      "Iter 3, Minibatch Loss= 614454.187500, Training Accuracy= 0.70000\n",
      "Iter 4, Minibatch Loss= 1780258.000000, Training Accuracy= 0.30000\n",
      "Optimization Finished!\n",
      "Partial testing accuracy: 1.0\n",
      "Partial testing accuracy: 0.949999988079\n",
      "Partial testing accuracy: 0.833333333333\n",
      "Partial testing accuracy: 0.82500000298\n",
      "Partial testing accuracy: 0.860000002384\n",
      "Partial testing accuracy: 0.833333333333\n",
      "Partial testing accuracy: 0.828571430274\n",
      "Partial testing accuracy: 0.80000000447\n",
      "Partial testing accuracy: 0.800000005298\n",
      "Partial testing accuracy: 0.810000002384\n",
      "Partial testing accuracy: 0.82727272944\n",
      "Partial testing accuracy: 0.81666666766\n",
      "Partial testing accuracy: 0.807692307692\n",
      "Partial testing accuracy: 0.821428571429\n",
      "Partial testing accuracy: 0.820000000795\n",
      "Partial testing accuracy: 0.81875000149\n",
      "Partial testing accuracy: 0.817647060927\n",
      "Partial testing accuracy: 0.805555558867\n",
      "Partial testing accuracy: 0.810526317672\n",
      "Partial testing accuracy: 0.820000001788\n",
      "Partial testing accuracy: 0.823809524377\n",
      "Partial testing accuracy: 0.818181818182\n",
      "Partial testing accuracy: 0.817391304866\n",
      "Partial testing accuracy: 0.820833332837\n",
      "Partial testing accuracy: 0.82\n",
      "Partial testing accuracy: 0.819230769689\n",
      "Partial testing accuracy: 0.822222221781\n",
      "Partial testing accuracy: 0.817857142006\n",
      "Partial testing accuracy: 0.820689653528\n",
      "Partial testing accuracy: 0.809999998411\n",
      "Partial testing accuracy: 0.80645161098\n",
      "Partial testing accuracy: 0.809374997392\n",
      "Partial testing accuracy: 0.809090906923\n",
      "Validation accuracy: 0.809090906923\n",
      "Precision 0.809230769231\n",
      "Recall 1.0\n",
      "f1_score 0.894557823129\n",
      "confusion_matrix\n",
      "[[  0  62]\n",
      " [  0 263]]\n"
     ]
    }
   ],
   "source": [
    "# Launch the graph\n",
    "with tf.Session() as sess:\n",
    "    sess.run(init)\n",
    "\n",
    "    # Keep training until reach max iterations\n",
    "    for epoch in range(training_iters):\n",
    "        # Fit training using batch data\n",
    "        \n",
    "        ix = ut.shuffle(x_train, n_samples=training_size, random_state=epoch)\n",
    "        iy = ut.shuffle(y_train, n_samples=training_size, random_state=epoch)\n",
    "        \n",
    "        sess.run(optimizer, feed_dict={x: ix, y: iy, keep_prob: 1.})\n",
    "        # Compute average loss\n",
    "        loss, acc = sess.run([cost, accuracy], feed_dict={x: ix, y: iy, keep_prob: 1.})\n",
    "        # Display logs per epoch step\n",
    "        print \"Iter \" + str(epoch) + \", Minibatch Loss= \" + \\\n",
    "                  \"{:.6f}\".format(loss) + \", Training Accuracy= \" + \\\n",
    "                  \"{:.5f}\".format(acc)\n",
    "    print \"Optimization Finished!\"\n",
    "\n",
    "    runs = 0\n",
    "    acc = 0.\n",
    "    y_pred = []\n",
    "    for i in range(0, len(y_test), 10):\n",
    "        if i+10 < len(y_test):\n",
    "            val_accuracy, y_pred_i = sess.run([accuracy, y_p], feed_dict={x: np.reshape(x_test[i:i+10], (len(x_test[i:i+10]), -1)), y: y_test[i:i+10], keep_prob: 1.})\n",
    "            acc += val_accuracy\n",
    "            y_pred.extend(y_pred_i)\n",
    "        else:\n",
    "            val_accuracy, y_pred_i = sess.run([accuracy, y_p], feed_dict={x: np.reshape(x_test[i:], (len(x_test[i:]), -1)), y: y_test[i:], keep_prob: 1.})\n",
    "            acc += val_accuracy\n",
    "            y_pred.extend(y_pred_i)\n",
    "        runs += 1\n",
    "        print \"Partial testing accuracy:\", acc/runs\n",
    "    \n",
    "    #metrics\n",
    "    print \"Validation accuracy:\", acc/runs\n",
    "    y_true = np.argmax(y_test,1)\n",
    "    print \"Precision\", mt.precision_score(y_true, y_pred)\n",
    "    print \"Recall\", mt.recall_score(y_true, y_pred)\n",
    "    print \"f1_score\", mt.f1_score(y_true, y_pred)\n",
    "    print \"confusion_matrix\"\n",
    "    print mt.confusion_matrix(y_true, y_pred)\n",
    "    fpr, tpr, tresholds = mt.roc_curve(y_true, y_pred)"
   ]
  },
  {
   "cell_type": "code",
   "execution_count": null,
   "metadata": {
    "collapsed": true
   },
   "outputs": [],
   "source": []
  }
 ],
 "metadata": {
  "kernelspec": {
   "display_name": "Python 2",
   "language": "python",
   "name": "python2"
  },
  "language_info": {
   "codemirror_mode": {
    "name": "ipython",
    "version": 2
   },
   "file_extension": ".py",
   "mimetype": "text/x-python",
   "name": "python",
   "nbconvert_exporter": "python",
   "pygments_lexer": "ipython2",
   "version": "2.7.6"
  }
 },
 "nbformat": 4,
 "nbformat_minor": 0
}

{
 "cells": [
  {
   "cell_type": "code",
   "execution_count": 6,
   "metadata": {
    "collapsed": false
   },
   "outputs": [],
   "source": [
    "import numpy as np\n",
    "import matplotlib.pyplot as plt\n",
    "\n",
    "import os\n",
    "from PIL import Image\n",
    "\n",
    "from skimage import data\n",
    "from skimage.filters import roberts, sobel, scharr, prewitt\n",
    "from skimage.color import rgb2gray"
   ]
  },
  {
   "cell_type": "code",
   "execution_count": 10,
   "metadata": {
    "collapsed": true
   },
   "outputs": [],
   "source": [
    "# Construct image in array shape\n",
    "arraydirectory_roberts= './edge_array_roberts/'\n",
    "arraydirectory_sobel= './edge_array_sobel/'\n",
    "photodirectory='./photos/'\n",
    "\n",
    "if not os.path.exists(arraydirectory_roberts):\n",
    "    os.makedirs(arraydirectory_roberts)\n",
    "\n",
    "if not os.path.exists(arraydirectory_sobel):\n",
    "    os.makedirs(arraydirectory_sobel)\n",
    "    \n",
    "for fn in os.listdir(photodirectory):\n",
    "    if os.path.isfile(photodirectory + fn) and '.jpg' in fn:\n",
    "        img=np.array(Image.open(photodirectory + fn))\n",
    "        img_gray = rgb2gray(img)\n",
    "        #roberts\n",
    "        edge_roberts=roberts(img_gray)\n",
    "        roberts_flat=[item for sublist in edge_roberts for item in sublist]\n",
    "        np.save(arraydirectory_roberts + fn,roberts_flat)\n",
    "        #sobel\n",
    "        edge_sobel=sobel(img_gray)\n",
    "        sobel_flat=[item for sublist in edge_sobel for item in sublist]\n",
    "        np.save(arraydirectory_sobel + fn,sobel_flat)"
   ]
  }
 ],
 "metadata": {
  "kernelspec": {
   "display_name": "Python 2",
   "language": "python",
   "name": "python2"
  },
  "language_info": {
   "codemirror_mode": {
    "name": "ipython",
    "version": 2
   },
   "file_extension": ".py",
   "mimetype": "text/x-python",
   "name": "python",
   "nbconvert_exporter": "python",
   "pygments_lexer": "ipython2",
   "version": "2.7.6"
  }
 },
 "nbformat": 4,
 "nbformat_minor": 1
}

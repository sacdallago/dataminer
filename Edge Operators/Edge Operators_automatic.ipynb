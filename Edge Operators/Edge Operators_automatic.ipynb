{
 "cells": [
  {
   "cell_type": "code",
   "execution_count": 1,
   "metadata": {
    "collapsed": false
   },
   "outputs": [],
   "source": [
    "import numpy as np\n",
    "import matplotlib.pyplot as plt\n",
    "\n",
    "import os\n",
    "from PIL import Image\n",
    "\n",
    "import skimage.util\n",
    "from skimage.filters import threshold_otsu\n",
    "from skimage.morphology import binary_closing\n",
    "from skimage import data\n",
    "from skimage.filters import roberts, sobel, scharr, prewitt\n",
    "from skimage.color import rgb2gray"
   ]
  },
  {
   "cell_type": "code",
   "execution_count": 3,
   "metadata": {
    "collapsed": false
   },
   "outputs": [
    {
     "name": "stdout",
     "output_type": "stream",
     "text": [
      "done\n"
     ]
    }
   ],
   "source": [
    "# Construct image in array shape\n",
    "arraydirectory_roberts= '../FeatureSampleFoodClassification/edge_array_roberts/'\n",
    "arraydirectory_sobel= '../FeatureSampleFoodClassification/edge_array_sobel/'\n",
    "photodirectory='../SampleFoodClassifier_Norm/'\n",
    "\n",
    "if not os.path.exists(arraydirectory_roberts):\n",
    "    os.makedirs(arraydirectory_roberts)\n",
    "\n",
    "if not os.path.exists(arraydirectory_sobel):\n",
    "    os.makedirs(arraydirectory_sobel)\n",
    "    \n",
    "for fn in os.listdir(photodirectory):\n",
    "    if os.path.isfile(photodirectory + fn) and '.jpg' in fn:\n",
    "        img=np.array(Image.open(photodirectory + fn))\n",
    "        img_gray = rgb2gray(img)\n",
    "        \n",
    "        #roberts\n",
    "        edge_roberts=roberts(img_gray)\n",
    "        #binarization\n",
    "        thresh = threshold_otsu(edge_roberts)\n",
    "        roberts_bin = edge_roberts > thresh\n",
    "        #closing\n",
    "        roberts_closed=binary_closing(roberts_bin)\n",
    "        roberts_flat=[item for sublist in roberts_closed for item in sublist]\n",
    "        np.save(arraydirectory_roberts + fn,roberts_flat)\n",
    "        \n",
    "        #sobel\n",
    "        edge_sobel=sobel(img_gray)\n",
    "        #binarization\n",
    "        thresh = threshold_otsu(edge_sobel)\n",
    "        sobel_bin = edge_sobel > thresh\n",
    "        #closing\n",
    "        sobel_closed=binary_closing(sobel_bin)\n",
    "        sobel_flat=[item for sublist in sobel_closed for item in sublist]\n",
    "        np.save(arraydirectory_sobel + fn,sobel_flat)\n",
    "        \n",
    "print('done')"
   ]
  },
  {
   "cell_type": "code",
   "execution_count": null,
   "metadata": {
    "collapsed": true
   },
   "outputs": [],
   "source": []
  }
 ],
 "metadata": {
  "kernelspec": {
   "display_name": "Python 2",
   "language": "python",
   "name": "python2"
  },
  "language_info": {
   "codemirror_mode": {
    "name": "ipython",
    "version": 2
   },
   "file_extension": ".py",
   "mimetype": "text/x-python",
   "name": "python",
   "nbconvert_exporter": "python",
   "pygments_lexer": "ipython2",
   "version": "2.7.6"
  }
 },
 "nbformat": 4,
 "nbformat_minor": 1
}
